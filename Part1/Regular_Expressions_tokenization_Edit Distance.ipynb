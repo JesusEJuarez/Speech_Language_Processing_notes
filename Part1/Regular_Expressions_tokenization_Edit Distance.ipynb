{
 "cells": [
  {
   "cell_type": "markdown",
   "metadata": {},
   "source": [
    "# Regular Expression, tokenization, Edit Distance"
   ]
  },
  {
   "cell_type": "markdown",
   "metadata": {},
   "source": [
    "### Normalization\n",
    "The first step on bulding a lenguaje model is to normalizate the text, this is because not all the strings in a text gives importan information, on this contex could be helpfull using Regular Expressions\n",
    "\n",
    "## Regular Expressions\n",
    "Regular Expressions are a way to search patters in a text, this could be helpfull for example when you are analizing a corpus.\n",
    "### Basic Patters\n",
    "* Concadetantion \n",
    "    It is used to look for a sequense of characters in a string\n",
    "* Disjuntion\n",
    "    It is used check if a string coteins at least one character in a collection\n",
    "* Range\n",
    "    "
   ]
  },
  {
   "cell_type": "code",
   "execution_count": null,
   "metadata": {},
   "outputs": [],
   "source": []
  }
 ],
 "metadata": {
  "language_info": {
   "name": "python"
  }
 },
 "nbformat": 4,
 "nbformat_minor": 2
}
